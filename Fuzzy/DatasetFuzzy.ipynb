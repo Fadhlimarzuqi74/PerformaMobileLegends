{
 "cells": [
  {
   "cell_type": "code",
   "execution_count": 2,
   "id": "3ea2e53e-3278-4f46-bb65-ea85a950244e",
   "metadata": {},
   "outputs": [
    {
     "name": "stdout",
     "output_type": "stream",
     "text": [
      "Data berhasil disimpan ke 'filtered_MPLID_S13_POS.csv'\n"
     ]
    }
   ],
   "source": [
    "import pandas as pd\n",
    "\n",
    "# Membaca file CSV\n",
    "url = \"https://raw.githubusercontent.com/Fadhlimarzuqi74/PerformaMobileLegends/main/Fuzzy/MPLID_S13_POS.csv\"\n",
    "df = pd.read_csv(url)\n",
    "\n",
    "# Memilih kolom yang diinginkan\n",
    "selected_columns = [\n",
    "    \"Player_Name\", \"Hero_Pick\", \"Kill\", \"Death\", \"Assist\", \n",
    "    \"Damage_Dealt\", \"Damage_Taken\", \"Damage_Turret\", \n",
    "    \"Gold\", \"Level\", \"Player_Role\"\n",
    "]\n",
    "\n",
    "# Menyimpan ke file CSV baru\n",
    "filtered_df = df[selected_columns]\n",
    "filtered_df.to_csv(\"filtered_MPLID_S13_POS.csv\", index=False)\n",
    "\n",
    "print(\"Data berhasil disimpan ke 'filtered_MPLID_S13_POS.csv'\")"
   ]
  },
  {
   "cell_type": "code",
   "execution_count": 4,
   "id": "01749b57-c93e-4b06-952f-c51a9e0fdcc7",
   "metadata": {},
   "outputs": [
    {
     "name": "stdout",
     "output_type": "stream",
     "text": [
      "Data Jungler berhasil disimpan ke 'Jungler_players.csv'\n",
      "Data Explane berhasil disimpan ke 'Explane_players.csv'\n",
      "Data Midlane berhasil disimpan ke 'Midlane_players.csv'\n",
      "Data Goldlane berhasil disimpan ke 'Goldlane_players.csv'\n",
      "Data Roamer berhasil disimpan ke 'Roamer_players.csv'\n"
     ]
    }
   ],
   "source": [
    "import pandas as pd\n",
    "\n",
    "# Membaca file CSV\n",
    "url = \"https://raw.githubusercontent.com/Fadhlimarzuqi74/PerformaMobileLegends/main/Fuzzy/MPLID_S13_POS.csv\"\n",
    "df = pd.read_csv(url)\n",
    "\n",
    "# Memilih kolom yang dibutuhkan\n",
    "selected_columns = [\n",
    "    \"Player_Name\", \"Hero_Pick\", \"Kill\", \"Death\", \"Assist\", \n",
    "    \"Damage_Dealt\", \"Damage_Taken\", \"Damage_Turret\", \n",
    "    \"Gold\", \"Level\", \"Player_Role\"\n",
    "]\n",
    "filtered_df = df[selected_columns]\n",
    "\n",
    "# Mengelompokkan data berdasarkan Player_Role\n",
    "roles = [\"Jungler\", \"Explane\", \"Midlane\", \"Goldlane\", \"Roamer\"]\n",
    "for role in roles:\n",
    "    # Filter berdasarkan role\n",
    "    role_df = filtered_df[filtered_df[\"Player_Role\"] == role]\n",
    "    \n",
    "    # Simpan ke file CSV per role\n",
    "    file_name = f\"{role}_players.csv\"\n",
    "    role_df.to_csv(file_name, index=False)\n",
    "    print(f\"Data {role} berhasil disimpan ke '{file_name}'\")"
   ]
  },
  {
   "cell_type": "code",
   "execution_count": 8,
   "id": "bf37e8b6-00c2-4ecc-ab5f-648eb7be7ec3",
   "metadata": {},
   "outputs": [
    {
     "name": "stdout",
     "output_type": "stream",
     "text": [
      "File dengan KDA telah disimpan ke 'jungler_players_with_kda.csv'\n"
     ]
    }
   ],
   "source": [
    "import pandas as pd\n",
    "\n",
    "# Membaca dataset jungler\n",
    "file_name = \"jungler_players.csv\"\n",
    "df = pd.read_csv(file_name)\n",
    "\n",
    "# Menghitung KDA\n",
    "def calculate_kda(kill, death, assist):\n",
    "    death = max(1, death)  # Menghindari pembagian dengan nol\n",
    "    return round((kill + assist) / death, 2)\n",
    "\n",
    "# Terapkan fungsi pada dataset\n",
    "df[\"KDA\"] = df.apply(lambda row: calculate_kda(row[\"Kill\"], row[\"Death\"], row[\"Assist\"]), axis=1)\n",
    "\n",
    "# Simpan hasil ke file baru\n",
    "output_file_name = \"jungler_players_with_kda.csv\"\n",
    "df.to_csv(output_file_name, index=False)\n",
    "\n",
    "print(f\"File dengan KDA telah disimpan ke '{output_file_name}'\")"
   ]
  },
  {
   "cell_type": "code",
   "execution_count": 12,
   "id": "a986b69e-a51e-4405-94b8-e371912a6690",
   "metadata": {},
   "outputs": [
    {
     "name": "stdout",
     "output_type": "stream",
     "text": [
      "File dengan KDA telah disimpan ke 'jungler_players_with_kda.csv'\n"
     ]
    }
   ],
   "source": [
    "import pandas as pd\n",
    "\n",
    "# Membaca dataset jungler\n",
    "file_name = \"jungler_players.csv\"\n",
    "df = pd.read_csv(file_name)\n",
    "\n",
    "# Menghitung KDA\n",
    "def calculate_kda(kill, death, assist):\n",
    "    death = max(1, death)  # Menghindari pembagian dengan nol\n",
    "    return round((kill + assist) / death, 2)\n",
    "\n",
    "# Terapkan fungsi pada dataset\n",
    "df[\"KDA\"] = df.apply(lambda row: calculate_kda(row[\"Kill\"], row[\"Death\"], row[\"Assist\"]), axis=1)\n",
    "\n",
    "# Memindahkan kolom KDA setelah kolom Death\n",
    "columns = df.columns.tolist()\n",
    "kda_index = columns.index(\"Assist\") + 1\n",
    "columns.insert(kda_index, columns.pop(columns.index(\"KDA\")))\n",
    "df = df[columns]\n",
    "\n",
    "# Simpan hasil ke file baru\n",
    "output_file_name = \"jungler_players_with_kda.csv\"\n",
    "df.to_csv(output_file_name, index=False)\n",
    "\n",
    "print(f\"File dengan KDA telah disimpan ke '{output_file_name}'\")"
   ]
  },
  {
   "cell_type": "code",
   "execution_count": 33,
   "id": "c112e44a-1411-4448-96c8-50adff029bdd",
   "metadata": {},
   "outputs": [
    {
     "name": "stdout",
     "output_type": "stream",
     "text": [
      "File dengan variabel KDA saja telah disimpan ke 'jungler.csv'\n"
     ]
    }
   ],
   "source": [
    "import pandas as pd\n",
    "\n",
    "# Membaca dataset jungler\n",
    "file_name = \"Jungler_players.csv\"\n",
    "df = pd.read_csv(file_name)\n",
    "\n",
    "# Menghitung KDA\n",
    "def calculate_kda(kill, death, assist):\n",
    "    death = max(1, death)  # Menghindari pembagian dengan nol\n",
    "    return round((kill + assist) / death, 2)\n",
    "\n",
    "# Tambahkan kolom KDA\n",
    "df[\"KDA\"] = df.apply(lambda row: calculate_kda(row[\"Kill\"], row[\"Death\"], row[\"Assist\"]), axis=1)\n",
    "\n",
    "# Hapus kolom Kill, Death, dan Assist\n",
    "df = df.drop(columns=[\"Kill\", \"Death\", \"Assist\"])\n",
    "\n",
    "columns = df.columns.tolist()\n",
    "kda_index = columns.index(\"Hero_Pick\") + 1\n",
    "columns.insert(kda_index, columns.pop(columns.index(\"KDA\")))\n",
    "df = df[columns]\n",
    "\n",
    "columns = df.columns.tolist()\n",
    "kda_index = columns.index(\"Hero_Pick\") + 1\n",
    "columns.insert(kda_index, columns.pop(columns.index(\"Player_Role\")))\n",
    "df = df[columns]\n",
    "\n",
    "# Simpan hasil ke file baru\n",
    "output_file_name = \"jungler.csv\"\n",
    "df.to_csv(output_file_name, index=False)\n",
    "\n",
    "print(f\"File dengan variabel KDA saja telah disimpan ke '{output_file_name}'\")"
   ]
  },
  {
   "cell_type": "code",
   "execution_count": 35,
   "id": "d4eb9d6e-9a09-46a3-9c29-a8bf8c675531",
   "metadata": {},
   "outputs": [
    {
     "name": "stdout",
     "output_type": "stream",
     "text": [
      "File dengan variabel KDA saja telah disimpan ke 'explane.csv'\n"
     ]
    }
   ],
   "source": [
    "import pandas as pd\n",
    "\n",
    "# Membaca dataset Explane\n",
    "file_name = \"Explane_players.csv\"\n",
    "df = pd.read_csv(file_name)\n",
    "\n",
    "# Menghitung KDA\n",
    "def calculate_kda(kill, death, assist):\n",
    "    death = max(1, death)  # Menghindari pembagian dengan nol\n",
    "    return round((kill + assist) / death, 2)\n",
    "\n",
    "# Tambahkan kolom KDA\n",
    "df[\"KDA\"] = df.apply(lambda row: calculate_kda(row[\"Kill\"], row[\"Death\"], row[\"Assist\"]), axis=1)\n",
    "\n",
    "# Hapus kolom Kill, Death, dan Assist\n",
    "df = df.drop(columns=[\"Kill\", \"Death\", \"Assist\"])\n",
    "\n",
    "columns = df.columns.tolist()\n",
    "kda_index = columns.index(\"Hero_Pick\") + 1\n",
    "columns.insert(kda_index, columns.pop(columns.index(\"KDA\")))\n",
    "df = df[columns]\n",
    "\n",
    "columns = df.columns.tolist()\n",
    "kda_index = columns.index(\"Hero_Pick\") + 1\n",
    "columns.insert(kda_index, columns.pop(columns.index(\"Player_Role\")))\n",
    "df = df[columns]\n",
    "\n",
    "# Simpan hasil ke file baru\n",
    "output_file_name = \"explane.csv\"\n",
    "df.to_csv(output_file_name, index=False)\n",
    "\n",
    "print(f\"File dengan variabel KDA saja telah disimpan ke '{output_file_name}'\")"
   ]
  },
  {
   "cell_type": "code",
   "execution_count": 37,
   "id": "a7b01454-b1e6-45af-bcfb-e73784d46cea",
   "metadata": {},
   "outputs": [
    {
     "name": "stdout",
     "output_type": "stream",
     "text": [
      "File dengan variabel KDA saja telah disimpan ke 'midlane.csv'\n"
     ]
    }
   ],
   "source": [
    "import pandas as pd\n",
    "\n",
    "# Membaca dataset Midlane\n",
    "file_name = \"Midlane_players.csv\"\n",
    "df = pd.read_csv(file_name)\n",
    "\n",
    "# Menghitung KDA\n",
    "def calculate_kda(kill, death, assist):\n",
    "    death = max(1, death)  # Menghindari pembagian dengan nol\n",
    "    return round((kill + assist) / death, 2)\n",
    "\n",
    "# Tambahkan kolom KDA\n",
    "df[\"KDA\"] = df.apply(lambda row: calculate_kda(row[\"Kill\"], row[\"Death\"], row[\"Assist\"]), axis=1)\n",
    "\n",
    "# Hapus kolom Kill, Death, dan Assist\n",
    "df = df.drop(columns=[\"Kill\", \"Death\", \"Assist\"])\n",
    "\n",
    "columns = df.columns.tolist()\n",
    "kda_index = columns.index(\"Hero_Pick\") + 1\n",
    "columns.insert(kda_index, columns.pop(columns.index(\"KDA\")))\n",
    "df = df[columns]\n",
    "\n",
    "columns = df.columns.tolist()\n",
    "kda_index = columns.index(\"Hero_Pick\") + 1\n",
    "columns.insert(kda_index, columns.pop(columns.index(\"Player_Role\")))\n",
    "df = df[columns]\n",
    "\n",
    "# Simpan hasil ke file baru\n",
    "output_file_name = \"midlane.csv\"\n",
    "df.to_csv(output_file_name, index=False)\n",
    "\n",
    "print(f\"File dengan variabel KDA saja telah disimpan ke '{output_file_name}'\")"
   ]
  },
  {
   "cell_type": "code",
   "execution_count": 39,
   "id": "5251c2d2-5d7d-480a-bf64-7bbc23a718c7",
   "metadata": {},
   "outputs": [
    {
     "name": "stdout",
     "output_type": "stream",
     "text": [
      "File dengan variabel KDA saja telah disimpan ke 'goldlane.csv'\n"
     ]
    }
   ],
   "source": [
    "import pandas as pd\n",
    "\n",
    "# Membaca dataset Goldlane\n",
    "file_name = \"Goldlane_players.csv\"\n",
    "df = pd.read_csv(file_name)\n",
    "\n",
    "# Menghitung KDA\n",
    "def calculate_kda(kill, death, assist):\n",
    "    death = max(1, death)  # Menghindari pembagian dengan nol\n",
    "    return round((kill + assist) / death, 2)\n",
    "\n",
    "# Tambahkan kolom KDA\n",
    "df[\"KDA\"] = df.apply(lambda row: calculate_kda(row[\"Kill\"], row[\"Death\"], row[\"Assist\"]), axis=1)\n",
    "\n",
    "# Hapus kolom Kill, Death, dan Assist\n",
    "df = df.drop(columns=[\"Kill\", \"Death\", \"Assist\"])\n",
    "\n",
    "columns = df.columns.tolist()\n",
    "kda_index = columns.index(\"Hero_Pick\") + 1\n",
    "columns.insert(kda_index, columns.pop(columns.index(\"KDA\")))\n",
    "df = df[columns]\n",
    "\n",
    "columns = df.columns.tolist()\n",
    "kda_index = columns.index(\"Hero_Pick\") + 1\n",
    "columns.insert(kda_index, columns.pop(columns.index(\"Player_Role\")))\n",
    "df = df[columns]\n",
    "\n",
    "# Simpan hasil ke file baru\n",
    "output_file_name = \"goldlane.csv\"\n",
    "df.to_csv(output_file_name, index=False)\n",
    "\n",
    "print(f\"File dengan variabel KDA saja telah disimpan ke '{output_file_name}'\")"
   ]
  },
  {
   "cell_type": "code",
   "execution_count": 41,
   "id": "77b05725-3572-42bf-8c7a-ba22fb8f18e2",
   "metadata": {},
   "outputs": [
    {
     "name": "stdout",
     "output_type": "stream",
     "text": [
      "File dengan variabel KDA saja telah disimpan ke 'roamer.csv'\n"
     ]
    }
   ],
   "source": [
    "import pandas as pd\n",
    "\n",
    "# Membaca dataset Roamer\n",
    "file_name = \"Roamer_players.csv\"\n",
    "df = pd.read_csv(file_name)\n",
    "\n",
    "# Menghitung KDA\n",
    "def calculate_kda(kill, death, assist):\n",
    "    death = max(1, death)  # Menghindari pembagian dengan nol\n",
    "    return round((kill + assist) / death, 2)\n",
    "\n",
    "# Tambahkan kolom KDA\n",
    "df[\"KDA\"] = df.apply(lambda row: calculate_kda(row[\"Kill\"], row[\"Death\"], row[\"Assist\"]), axis=1)\n",
    "\n",
    "# Hapus kolom Kill, Death, dan Assist\n",
    "df = df.drop(columns=[\"Kill\", \"Death\", \"Assist\"])\n",
    "\n",
    "columns = df.columns.tolist()\n",
    "kda_index = columns.index(\"Hero_Pick\") + 1\n",
    "columns.insert(kda_index, columns.pop(columns.index(\"KDA\")))\n",
    "df = df[columns]\n",
    "\n",
    "columns = df.columns.tolist()\n",
    "kda_index = columns.index(\"Hero_Pick\") + 1\n",
    "columns.insert(kda_index, columns.pop(columns.index(\"Player_Role\")))\n",
    "df = df[columns]\n",
    "\n",
    "# Simpan hasil ke file baru\n",
    "output_file_name = \"roamer.csv\"\n",
    "df.to_csv(output_file_name, index=False)\n",
    "\n",
    "print(f\"File dengan variabel KDA saja telah disimpan ke '{output_file_name}'\")"
   ]
  },
  {
   "cell_type": "code",
   "execution_count": null,
   "id": "3029f8f6-badf-4212-bd7a-0bbadab7e2ca",
   "metadata": {},
   "outputs": [],
   "source": []
  }
 ],
 "metadata": {
  "kernelspec": {
   "display_name": "Python [conda env:base] *",
   "language": "python",
   "name": "conda-base-py"
  },
  "language_info": {
   "codemirror_mode": {
    "name": "ipython",
    "version": 3
   },
   "file_extension": ".py",
   "mimetype": "text/x-python",
   "name": "python",
   "nbconvert_exporter": "python",
   "pygments_lexer": "ipython3",
   "version": "3.12.7"
  }
 },
 "nbformat": 4,
 "nbformat_minor": 5
}
