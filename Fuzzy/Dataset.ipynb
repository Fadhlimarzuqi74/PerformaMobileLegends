{
 "cells": [
  {
   "cell_type": "code",
   "execution_count": 5,
   "id": "bc5c1518-d8d0-413d-ae8d-17ea731174f0",
   "metadata": {},
   "outputs": [
    {
     "name": "stdout",
     "output_type": "stream",
     "text": [
      "File jungler.csv berhasil dibuat di jungler.csv\n"
     ]
    }
   ],
   "source": [
    "import pandas as pd\n",
    "\n",
    "# Baca dataset\n",
    "dataset_path = \"MPLID_S13_POS.csv\"  # Ganti dengan path dataset Anda\n",
    "data = pd.read_csv(dataset_path)\n",
    "\n",
    "# Filter data untuk role 'Jungler'\n",
    "jungler_data = data[data['Player_Role'] == \"Jungler\"]\n",
    "\n",
    "# Simpan data ke CSV\n",
    "output_path = \"jungler.csv\"\n",
    "jungler_data.to_csv(output_path, index=False)\n",
    "\n",
    "print(f\"File jungler.csv berhasil dibuat di {output_path}\")"
   ]
  },
  {
   "cell_type": "code",
   "execution_count": 9,
   "id": "787c5036-23ad-4a3c-be1f-a24fe2b0d53f",
   "metadata": {},
   "outputs": [
    {
     "name": "stdout",
     "output_type": "stream",
     "text": [
      "File explane.csv berhasil dibuat di explane.csv\n"
     ]
    }
   ],
   "source": [
    "import pandas as pd\n",
    "\n",
    "# Baca dataset\n",
    "dataset_path = \"MPLID_S13_POS.csv\"  # Ganti dengan path dataset Anda\n",
    "data = pd.read_csv(dataset_path)\n",
    "\n",
    "# Filter data untuk role 'Explane'\n",
    "jungler_data = data[data['Player_Role'] == \"Explane\"]\n",
    "\n",
    "# Simpan data ke CSV\n",
    "output_path = \"explane.csv\"\n",
    "jungler_data.to_csv(output_path, index=False)\n",
    "\n",
    "print(f\"File explane.csv berhasil dibuat di {output_path}\")"
   ]
  },
  {
   "cell_type": "code",
   "execution_count": 11,
   "id": "2c200bed-9bdf-49a9-b04f-501c075f3073",
   "metadata": {},
   "outputs": [
    {
     "name": "stdout",
     "output_type": "stream",
     "text": [
      "File midlane.csv berhasil dibuat di midlane.csv\n"
     ]
    }
   ],
   "source": [
    "import pandas as pd\n",
    "\n",
    "# Baca dataset\n",
    "dataset_path = \"MPLID_S13_POS.csv\"  # Ganti dengan path dataset Anda\n",
    "data = pd.read_csv(dataset_path)\n",
    "\n",
    "# Filter data untuk role 'Midlane'\n",
    "jungler_data = data[data['Player_Role'] == \"Midlane\"]\n",
    "\n",
    "# Simpan data ke CSV\n",
    "output_path = \"midlane.csv\"\n",
    "jungler_data.to_csv(output_path, index=False)\n",
    "\n",
    "print(f\"File midlane.csv berhasil dibuat di {output_path}\")"
   ]
  },
  {
   "cell_type": "code",
   "execution_count": 13,
   "id": "d2a3520e-8515-4afc-814f-c60cab29d14b",
   "metadata": {},
   "outputs": [
    {
     "name": "stdout",
     "output_type": "stream",
     "text": [
      "File goldlane.csv berhasil dibuat di goldlane.csv\n"
     ]
    }
   ],
   "source": [
    "import pandas as pd\n",
    "\n",
    "# Baca dataset\n",
    "dataset_path = \"MPLID_S13_POS.csv\"  # Ganti dengan path dataset Anda\n",
    "data = pd.read_csv(dataset_path)\n",
    "\n",
    "# Filter data untuk role 'Goldlane'\n",
    "jungler_data = data[data['Player_Role'] == \"Goldlane\"]\n",
    "\n",
    "# Simpan data ke CSV\n",
    "output_path = \"goldlane.csv\"\n",
    "jungler_data.to_csv(output_path, index=False)\n",
    "\n",
    "print(f\"File goldlane.csv berhasil dibuat di {output_path}\")"
   ]
  },
  {
   "cell_type": "code",
   "execution_count": 17,
   "id": "610c17db-17d4-4514-b4a4-23f79f213785",
   "metadata": {},
   "outputs": [
    {
     "name": "stdout",
     "output_type": "stream",
     "text": [
      "File roamer.csv berhasil dibuat di roamer.csv\n"
     ]
    }
   ],
   "source": [
    "import pandas as pd\n",
    "\n",
    "# Baca dataset\n",
    "dataset_path = \"MPLID_S13_POS.csv\"  # Ganti dengan path dataset Anda\n",
    "data = pd.read_csv(dataset_path)\n",
    "\n",
    "# Filter data untuk role 'Roamer'\n",
    "jungler_data = data[data['Player_Role'] == \"Roamer\"]\n",
    "\n",
    "# Simpan data ke CSV\n",
    "output_path = \"roamer.csv\"\n",
    "jungler_data.to_csv(output_path, index=False)\n",
    "\n",
    "print(f\"File roamer.csv berhasil dibuat di {output_path}\")"
   ]
  },
  {
   "cell_type": "code",
   "execution_count": null,
   "id": "52b4ec90-76ac-49f3-a138-dea1dbc64e6a",
   "metadata": {},
   "outputs": [],
   "source": []
  }
 ],
 "metadata": {
  "kernelspec": {
   "display_name": "Python [conda env:base] *",
   "language": "python",
   "name": "conda-base-py"
  },
  "language_info": {
   "codemirror_mode": {
    "name": "ipython",
    "version": 3
   },
   "file_extension": ".py",
   "mimetype": "text/x-python",
   "name": "python",
   "nbconvert_exporter": "python",
   "pygments_lexer": "ipython3",
   "version": "3.12.7"
  }
 },
 "nbformat": 4,
 "nbformat_minor": 5
}
